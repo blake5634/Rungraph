{
 "cells": [
  {
   "cell_type": "markdown",
   "metadata": {},
   "source": [
    "# Analytics for \"valid\" runs\n",
    "\n",
    "### Imports\n"
   ]
  },
  {
   "cell_type": "code",
   "execution_count": 6,
   "metadata": {
    "jupyter": {
     "source_hidden": true
    },
    "tags": [
     "hide_input"
    ]
   },
   "outputs": [],
   "source": [
    "import numpy as np       # operations on numerical arrays\n",
    "import math as m\n",
    "import operator          # for sorting list of class instances\n",
    "from scipy import stats\n",
    "import datetime as dt\n",
    "from   dateutil import parser \n",
    "\n",
    "\n",
    "import matplotlib.mlab as mlab\n",
    "import matplotlib.pyplot as plt\n",
    "import matplotlib as mpl\n",
    "\n",
    "from matplotlib.colors import BoundaryNorm\n",
    "from matplotlib.ticker import MaxNLocator\n",
    "\n",
    "from IPython.display import display, Markdown, Latex\n",
    "\n",
    "import runData as rd\n",
    "\n"
   ]
  },
  {
   "cell_type": "markdown",
   "metadata": {},
   "source": [
    "### Classes"
   ]
  },
  {
   "cell_type": "markdown",
   "metadata": {},
   "source": [
    "### Data Reading and Validation\n"
   ]
  },
  {
   "cell_type": "code",
   "execution_count": 7,
   "metadata": {
    "jupyter": {
     "source_hidden": true
    },
    "tags": []
   },
   "outputs": [],
   "source": [
    "nruns = 0\n",
    "allruns = []\n",
    "runs = []     # \"valid\" runs\n",
    "runs3k = []\n",
    "runs5k = []\n",
    "routed = {}   # routes by id #\n",
    "\n",
    "nvr = 0 # number of valid runs\n",
    "nrt = 0 # number of routes\n",
    "\n",
    "runs1 = rd.runLists()\n",
    "runs1.reader()  # get the data\n",
    "\n",
    "nruns   = runs1.nruns\n",
    "allruns = runs1.allruns\n",
    "runs    = runs1.runs\n",
    "runs3k  = runs1.runs3k\n",
    "runs5k  = runs1.runs5k\n",
    "routed  = runs1.routed\n",
    "\n",
    "nvr     = runs1.nvr\n",
    "nrt     = runs1.nrt\n"
   ]
  },
  {
   "cell_type": "code",
   "execution_count": 8,
   "metadata": {
    "jupyter": {
     "source_hidden": true
    },
    "tags": []
   },
   "outputs": [
    {
     "name": "stdout",
     "output_type": "stream",
     "text": [
      "  0  263 Reservoir Basic\n",
      "  1  221 Greenlake 3k\n",
      "  2   83 no lights local loop\n",
      "  3   58 Pettis Loop2 (Mtn View)\n",
      "  4   53 45th to 65th loop\n",
      "  5   42 Greenlake out-and-back 5k\n",
      "  6   34 Greenlake 5k\n",
      "  7   31 Reservoir 5k\n",
      "  8   24 Latona Loop corrected\n",
      "  9   20 Upper Reservoir Park\n",
      " 10   17 LDS Loop\n",
      " 11   16 Los Altos2\n",
      " 12   15 Greenlake out & around\n",
      " 13   14 Greenlake out-and-back 5k (deprecated)\n",
      " 14   13 Pettis Loop 5K\n",
      " 15    6 Rihely Pl / Encinitas\n",
      " 16    6 New MTV 5k\n"
     ]
    },
    {
     "name": "stdin",
     "output_type": "stream",
     "text": [
      "Select a route:  10\n"
     ]
    },
    {
     "name": "stdout",
     "output_type": "stream",
     "text": [
      "You selected: LDS Loop\n"
     ]
    }
   ],
   "source": [
    "# select from most pop routes\n",
    "poproutes = []\n",
    "for r in routed.keys():\n",
    "    rt = routed[r]\n",
    "    if rt.n > 5:\n",
    "        poproutes.append(rt)\n",
    "        \n",
    "poproutes.sort(key=operator.attrgetter('n'),reverse=True)\n",
    "i=0\n",
    "for rt in poproutes:\n",
    "    print ('{:3} {:4} {}'.format(i, rt.n, rt.name))\n",
    "    i+= 1\n",
    "    \n",
    "sr = int(input('Select a route: '))\n",
    "print ('You selected: {}'.format(poproutes[sr].name))\n"
   ]
  },
  {
   "cell_type": "markdown",
   "metadata": {},
   "source": [
    "### plotting histogram"
   ]
  },
  {
   "cell_type": "code",
   "execution_count": 9,
   "metadata": {
    "jupyter": {
     "source_hidden": true
    },
    "tags": []
   },
   "outputs": [
    {
     "data": {
      "image/png": "[encoded data removed]",
      "text/plain": [
       "<Figure size 648x504 with 2 Axes>"
      ]
     },
     "metadata": {
      "needs_background": "light"
     },
     "output_type": "display_data"
    }
   ],
   "source": [
    "#print('got here...')    \n",
    "r = poproutes[sr]\n",
    "r.avg() # compute some averages\n",
    "l = len(r.times) # times have been converted already to pace-300\n",
    "ymax = np.max([5,(int(l)*0.10/5) * 5]) # auto scale y-axis\n",
    "\n",
    "#plt.figure(1,figsize=(8,8),dpi=200)\n",
    "plt.figure(1,figsize=(9,7))\n",
    " \n",
    "colors = ['green', 'tomato', 'r']\n",
    "onecolor = ['green']\n",
    "pctile = 0.15 # this fraction of most recent runs will be in red\n",
    "BIG_NEG_FLAG = -1000000\n",
    "recent_mean = BIG_NEG_FLAG  # absurd flag value\n",
    "# change color for most recent pctile% of runs\n",
    "d0=d1=d2=[]\n",
    "if(int(pctile*l) > 1):\n",
    "    #  NOTE: runs are listed most RECENT first\n",
    "    # break the runs up into 1) most recent run 2) most recent 15%, 3) rest\n",
    "    n1 = int((pctile)*l)  # first 1-p % runs\n",
    "    d0.append(r.times[0])  # most recent\n",
    "    d1 = (r.times[1:(n1)])  # next most recent runs\n",
    "    d2 = (r.times[n1:])  # rest\n",
    "    n, bins, patches = plt.hist([d2,d1,d0], 50,color=colors,stacked=True,alpha=0.5)\n",
    "    recent_mean = float(np.sum(d1)+np.sum(d0))/(n1)\n",
    "    #print \"Sum: \", np.sum(d1)\n",
    "    plt.suptitle(r.name + \" (recent runs in RED)\")\n",
    "else: # plain old boring histogram\n",
    "    d1 = (r.times[:])\n",
    "    #for j in range(0, len(d1)):  # shift times down so relative to 5:00\n",
    "        #d1[j] -= 300  # 300 seconds\n",
    "    n, bins, patches = plt.hist(d1, 50,color=onecolor,alpha=0.5)\n",
    "    plt.title(r.name)\n",
    "plt.xlabel('time (sec)')\n",
    "nruns = len(r.times)\n",
    "\n",
    "\n",
    "#\n",
    "#  make a horizontal bar for mean and += 1 SD\n",
    "#\n",
    "xl = [r.avg_pace - r.sd_pace,r.avg_pace - r.sd_pace, r.avg_pace, r.avg_pace, r.avg_pace + r.sd_pace, r.avg_pace + r.sd_pace, r.avg_pace - r.sd_pace, r.avg_pace + r.sd_pace]\n",
    "#for j in range(0,len(xl)):\n",
    "    #xl[j] -= 300   # subtract off 5:00 pace\n",
    "b1 = ymax * 0.5   # partway up the Y-axis\n",
    "tick = ymax/25.0\n",
    "b2 = b1+tick\n",
    "b3 = b2+tick/2\n",
    "b4 = b3+tick\n",
    "b = (b1+b2)/2\n",
    "yl = [ b1,b2,b1,b2,b1,b2,b,b]\n",
    "for i in [0,2,4,6]:\n",
    "    x = [xl[i], xl[i+1]]\n",
    "    y = [yl[i], yl[i+1]]\n",
    "    plt.plot(x,y, linewidth= 2.0, alpha= 1.0,color='blue')\n",
    "# plot a tick mark for mean of most recent runs (if applicable)\n",
    "if(recent_mean > BIG_NEG_FLAG):\n",
    "    x = recent_mean\n",
    "    plt.plot([x,x],[b3, b4],linewidth=2.0, color='red')\n",
    "\n",
    "# plot the normal distribution\n",
    "nd = stats.norm.pdf(bins, r.avg_pace, r.sd_pace)\n",
    "y = 0.75*ymax*nd/np.max(nd)   #auto scale height of normal dist.\n",
    "plt.plot(bins, y, 'r')\n",
    "\n",
    "xmin = 260\n",
    "xmax = 320 \n",
    "\n",
    "\n",
    "#\n",
    "#  plot a 'secondary' x-axis for the mm:ss representation \n",
    "#\n",
    "def sec2mmss(s):\n",
    "    return dt.timedelta(seconds=s)\n",
    "#def mmss2sec(td):\n",
    "    #return td.total_seconds()\n",
    "\n",
    "ax1 = plt.gca()\n",
    "ax2 = ax1.twiny()\n",
    "#ax2.set_xlim(ax1.get_xlim())\n",
    "mmss_tick_locs = [xmin+ 10*i for i in range(int((xmax-xmin)/10))]\n",
    "mmss_tick_labs = [str(sec2mmss(s))[3:] for s in mmss_tick_locs]\n",
    "ax2.set_xticks(mmss_tick_locs)\n",
    "ax2.set_xticklabels(mmss_tick_labs)\n",
    "ax2.set_xlabel('mm:ss pace per km')\n",
    "ax1.set_ylabel('N runs')\n",
    "ax1.set_xlabel('Pace per km (sec)')        \n",
    "#\n",
    "# set up axis parameters\n",
    "#\n",
    "for axis in [ax1, ax2]:\n",
    "    # Show the major grid lines with dark grey lines\n",
    "    axis.grid(b=True, which='major', color='#666666', linestyle='-')\n",
    "\n",
    "    # Show the minor grid lines with very faint and almost transparent grey lines\n",
    "    axis.minorticks_on()\n",
    "    #plt.grid(b=True, which='minor', color='#999999', linestyle='-', alpha=0.2)\n",
    "    axis.grid(b=True, which='minor', color='#999999', linestyle='-', alpha=0.2)\n",
    "\n",
    "    axis.set_xlim([xmin,xmax])\n",
    "    axis.set_ylim([0, 1.25*ymax])\n",
    "plt.show()\n"
   ]
  },
  {
   "cell_type": "markdown",
   "metadata": {},
   "source": [
    "### Plotting Time series"
   ]
  },
  {
   "cell_type": "code",
   "execution_count": 10,
   "metadata": {
    "jupyter": {
     "source_hidden": true
    },
    "tags": []
   },
   "outputs": [
    {
     "data": {
      "image/png": "[encoded data removed]",
      "text/plain": [
       "<Figure size 720x216 with 1 Axes>"
      ]
     },
     "metadata": {
      "needs_background": "light"
     },
     "output_type": "display_data"
    },
    {
     "data": {
      "image/png": "[encoded data removed]",
      "text/plain": [
       "<Figure size 720x216 with 1 Axes>"
      ]
     },
     "metadata": {
      "needs_background": "light"
     },
     "output_type": "display_data"
    }
   ],
   "source": [
    "    ##############################################   Plot Pace vs Time\n",
    "    # plt.figure(2,figsize=(10,6),dpi=200)\n",
    "    plt.figure(2,figsize=(10,3))\n",
    "    plt.plot(r.dates, r.times)\n",
    "    # since data is most recent first, smooth a reversed array:\n",
    "    rtimes = list(r.times)   #python3: convert to r.times.copy()\n",
    "    rtimes.reverse() # in place\n",
    "    revtimes = np.array(rtimes)\n",
    "    Nsm = 15   # of smoothing points\n",
    "    if Nsm%2 != 1:\n",
    "        print('Smoothing windown must be odd! (fixing: Nsm={:})'.format(Nsm))\n",
    "        Nsm += 1\n",
    "    if len(rtimes) > 2*Nsm:\n",
    "        sm = np.flip(rd.smooth(revtimes, Nsm, 'flat'),0) # flip = unreverse to match most-recent-first\n",
    "        #fix glitch in last (most recent) pt \n",
    "        # try to shift smoothed for better match\n",
    "        sm[0] = sm[1]  # HACK ??  \n",
    "        shift = int((Nsm-1)/2)\n",
    "        prefix = np.array([sm[0]]*shift)  #extend most recent complete value to present\n",
    "        sm1 = np.concatenate((prefix,(sm.copy()[:-shift])))\n",
    "        plt.plot(r.dates, sm1)   # moving average line\n",
    "        plt.title('Pace History with 15 run moving avg.: '+r.name)\n",
    "    else:\n",
    "        plt.title('Pace History: '+ r.name)\n",
    "    plt.grid([1,1])\n",
    "    plt.ylim([250,350])\n",
    "    \n",
    "    ###  add a COVID BAR\n",
    "    cbY = 315\n",
    "    cbXmin=parser.parse('1-mar-2020').date()\n",
    "    cbXmax=parser.parse('1-mar-2021')\n",
    "    cbXmax=dt.date.today()  # Until further notice!!!\n",
    "    a = [cbXmin, cbXmax]\n",
    "    b = [cbY,cbY]\n",
    "    plt.plot(a,b,color='r',linestyle='--')  # covid-19 bar\n",
    "    doffst = 0.4*(cbXmax-cbXmin)/2\n",
    "    txt_X = cbXmin+doffst\n",
    "    plt.gca().text(txt_X, cbY*1.025, \"Covid19\",color='r',fontsize=14)\n",
    "\n",
    "    plt.show()\n",
    "    \n",
    "    # just the last year\n",
    "    dmax = dt.date.today()\n",
    "    dmin = dmax - dt.timedelta(days=365)\n",
    "    plt.figure(3,figsize=(10,3))\n",
    "    plt.title('Pace History in last 12 months: '+r.name)\n",
    "    plt.plot(r.dates,r.times) \n",
    "    plt.plot(a,b,color='r',linestyle='--')  # covid-19 bar\n",
    "    xt = max(dmin,txt_X)+dt.timedelta(days=30)\n",
    "    plt.gca().text(xt, cbY*1.025, \"Covid19\",color='r',fontsize=14)\n",
    "    if len(rtimes) > 20:\n",
    "        plt.plot(r.dates, sm1)   # moving average line\n",
    "    plt.xlim([dmin,dmax])\n",
    "    plt.ylim([260,350])\n",
    "    plt.grid([1,1])\n",
    "    plt.show()"
   ]
  }
 ],
 "metadata": {
  "celltoolbar": "Tags",
  "kernelspec": {
   "display_name": "Python 3",
   "language": "python",
   "name": "python3"
  },
  "language_info": {
   "codemirror_mode": {
    "name": "ipython",
    "version": 3
   },
   "file_extension": ".py",
   "mimetype": "text/x-python",
   "name": "python",
   "nbconvert_exporter": "python",
   "pygments_lexer": "ipython3",
   "version": "3.8.8"
  }
 },
 "nbformat": 4,
 "nbformat_minor": 4
}
