{
 "cells": [
  {
   "cell_type": "code",
   "execution_count": 1,
   "metadata": {
    "jupyter": {
     "source_hidden": true
    },
    "tags": []
   },
   "outputs": [],
   "source": [
    "import numpy as np       # operations on numerical arrays\n",
    "import math as m\n",
    "import operator          # for sorting list of class instances\n",
    "from scipy import stats\n",
    "import datetime as dt\n",
    "from   dateutil import parser \n",
    "\n",
    "\n",
    "import matplotlib.mlab as mlab\n",
    "import matplotlib.pyplot as plt\n",
    "import matplotlib as mpl\n",
    "\n",
    "from matplotlib.colors import BoundaryNorm\n",
    "from matplotlib.ticker import MaxNLocator\n",
    "\n",
    "from IPython.display import display, Markdown, Latex\n",
    "\n",
    "#NLP modules!\n",
    "import nltk  as nl\n",
    "import spacy as sp\n",
    "spnlp = sp.load(\"en_core_web_sm\") # set spacy to English\n",
    "from collections import Counter\n",
    "import re\n",
    "\n",
    "#import gensim\n",
    "\n",
    "# BH core routines for .csv files exported from Mappedometer\n",
    "import runData as rd\n",
    "\n",
    "\n",
    "def testdata(N):\n",
    "    listofruns = []\n",
    "    day1 = parser.parse('15-Oct-2015')\n",
    "    for i in range(N):\n",
    "        date = day1 + dt.timedelta(days=i)\n",
    "        pace = 300\n",
    "        t = 3.9*pace\n",
    "        stcomment = '{:}F.aword'.format(i)\n",
    "        if i>N/2:\n",
    "            stcomment = '{:}F'.format(i)\n",
    "        r = rd.run(date, pace, t, stcomment)\n",
    "        listofruns.append(r)\n",
    "    return listofruns"
   ]
  },
  {
   "cell_type": "code",
   "execution_count": 2,
   "metadata": {
    "jupyter": {
     "source_hidden": true
    },
    "tags": []
   },
   "outputs": [
    {
     "name": "stdout",
     "output_type": "stream",
     "text": [
      "Vocab has 83431 words.\n",
      "P(integral) = 1.198595246371253e-05\n",
      "P(aslkjerwoieu) = 0.0\n",
      "P(cosolodation) = 0.0\n",
      "P(lake) = 1.198595246371253e-05\n",
      "P(Lake) = 1.198595246371253e-05\n",
      "P(Wash) = 1.198595246371253e-05\n",
      "P(wash) = 1.198595246371253e-05\n"
     ]
    }
   ],
   "source": [
    "##   Peter Norvig's spelling corrector\n",
    "# http://norvig.com/spell-correct.html\n",
    "# import re\n",
    "# from collections import Counter\n",
    "\n",
    "def getwords(text): return re.findall(r'\\w+', text.lower())\n",
    "\n",
    "#WORDS = Counter(getwords(open('big.txt').read()))\n",
    "WORDS = Counter(spnlp.vocab.strings)\n",
    "\n",
    "#def P(word, N=sum(WORDS.values())): \n",
    "def P(word, N=sum(WORDS.values())):\n",
    "    \"Probability of `word`.\"\n",
    "    return WORDS[word] / N\n",
    "\n",
    "\n",
    "print(\"Vocab has {:} words.\".format(len(WORDS.values())))\n",
    "twds = ['integral', 'aslkjerwoieu', 'cosolodation', 'lake','Lake', 'Wash','wash']\n",
    "for wt in twds:\n",
    "    print('P('+wt+') = {:}'.format(P(wt))) \n",
    "\n",
    "\n",
    "\n",
    "def correction(word): \n",
    "    \"Most probable spelling correction for word.\"\n",
    "    return max(candidates(word), key=P)\n",
    "\n",
    "def candidates(word): \n",
    "    \"Generate possible spelling corrections for word.\"\n",
    "    return (known([word]) or known(edits1(word)) or known(edits2(word)) or [word])\n",
    "\n",
    "def known(words): \n",
    "    \"The subset of `words` that appear in the dictionary of WORDS.\"\n",
    "    return set(w for w in words if w in WORDS)\n",
    "\n",
    "def edits1(word):\n",
    "    \"All edits that are one edit away from `word`.\"\n",
    "    letters    = 'abcdefghijklmnopqrstuvwxyz'\n",
    "    splits     = [(word[:i], word[i:])    for i in range(len(word) + 1)]\n",
    "    deletes    = [L + R[1:]               for L, R in splits if R]\n",
    "    transposes = [L + R[1] + R[0] + R[2:] for L, R in splits if len(R)>1]\n",
    "    replaces   = [L + c + R[1:]           for L, R in splits if R for c in letters]\n",
    "    inserts    = [L + c + R               for L, R in splits for c in letters]\n",
    "    return set(deletes + transposes + replaces + inserts)\n",
    "\n",
    "def edits2(word): \n",
    "    \"All edits that are two edits away from `word`.\"\n",
    "    return (e2 for e1 in edits1(word) for e2 in edits1(e1))"
   ]
  },
  {
   "cell_type": "code",
   "execution_count": 3,
   "metadata": {
    "jupyter": {
     "source_hidden": true
    },
    "tags": []
   },
   "outputs": [
    {
     "name": "stdout",
     "output_type": "stream",
     "text": [
      "token  7  has:\n",
      "    token.text:  72F\n",
      "    token.text:  cloudy\n",
      "    token.text:  11:45AM\n",
      "    token.text:   \n",
      "    token.text:  20th\n",
      "    token.text:  75th\n",
      "token  14  has:\n",
      "    token.text:  78F\n",
      "    token.text:  sunny\n",
      "    token.text:  11:00AM\n",
      "    token.text:  Consolidation\n"
     ]
    }
   ],
   "source": [
    "rund = rd.runLists()\n",
    "rund.reader()\n",
    "#rund.allruns = testdata(20)\n",
    "\n",
    "fused = re.compile(r'(\\w+)[,\\.](\\w*)') # eg '50F.cool'\n",
    "rcoms = []\n",
    "pace_avg = 0.0\n",
    "for r in rund.allruns:\n",
    "    pace_avg += r.pace\n",
    "    doc = spnlp(r.comment)\n",
    "    t2l = []\n",
    "    for t in doc:  # get tokens in this run\n",
    "       # print('   token:',t.text)\n",
    "        if (not t.is_stop) and (not t.is_punct):\n",
    "            # find and split fused tokens\n",
    "            #matches = [m for m in re.finditer(fused,t.text)]\n",
    "            match = re.search(fused,t.text)\n",
    "            if match:\n",
    "                t1 = spnlp(match.group(1))\n",
    "                t2 = spnlp(match.group(2))\n",
    "                for t in [t1, t2]:\n",
    "                    if len(t)>0:\n",
    "                        t2l.append(t[0]) \n",
    "            else:\n",
    "                t2l.append(t) #make a list of tokens\n",
    "    rcoms.append(t2l)     # a list of token lists\n",
    "nts = [7,14]\n",
    "for nt in nts:\n",
    "    print('token ',nt,' has:')\n",
    "    for t in rcoms[nt]:\n",
    "        print('    token.text: ',t.text)\n",
    "pace_avg /= len(rund.allruns)\n"
   ]
  },
  {
   "cell_type": "code",
   "execution_count": 4,
   "metadata": {
    "jupyter": {
     "source_hidden": true
    },
    "tags": []
   },
   "outputs": [
    {
     "name": "stdout",
     "output_type": "stream",
     "text": [
      "Vocab has 918 words.\n",
      "P(integral) = 0.0\n",
      "P(adkjfaooruxcc) = 0.0\n",
      "P(consolodation) = 0.0\n",
      "P(the) = 0.0\n",
      "P(house) = 1.198595246371253e-05\n",
      "I found 918 unique words\n",
      "   10 most common are:\n",
      "    [('sunny', 178), ('start', 142), ('strong', 131), ('good', 107), ('cloudy', 100), ('consolidation', 81), ('lo', 56), ('took', 53), ('mo', 51), ('easy', 48)]\n",
      "\n",
      "I found 118 unique verbs\n",
      "   10 most common are:\n",
      "    [('took', 53), ('sign', 38), ('felt', 35), ('start', 28), ('run', 14), ('turn', 12), ('5th', 8), ('hamstring', 6), ('started', 4), ('lost', 3)]\n",
      "\n",
      "I found 368 unique nouns\n",
      "   10 most common are:\n",
      "    [('start', 112), ('consolidation', 79), ('mo', 48), ('weightsymca', 47), ('weights', 34), ('5th', 32), ('caf', 31), ('push', 30), ('effort', 26), ('lo', 25)]\n",
      "\n",
      "I found  55 unique temperatures\n",
      "   10 most common are:\n",
      "    [('50f', 40), ('48f', 35), ('60f', 32), ('65f', 31), ('45f', 29), ('56f', 17), ('55f', 17), ('44f', 15), ('42f', 15), ('70f', 14)]\n",
      "\n",
      "I found  96 unique times\n",
      "   10 most common are:\n",
      "    [('4:30pm', 16), ('4:00pm', 11), ('7:00', 9), ('10:30am', 7), ('9:00am', 7), ('3:55', 7), ('4:20pm', 7), ('7:30am', 5), ('10:00am', 5), ('11:30am', 5)]\n",
      "\n"
     ]
    }
   ],
   "source": [
    " \n",
    "verbs = []\n",
    "nouns = []\n",
    "words = []\n",
    "temps = []\n",
    "times = []\n",
    "anlonly = re.compile('[^0-9a-zA-Z]*')\n",
    "atemperature = re.compile(r'[0-9]+\\s*[fF]')\n",
    "atime = re.compile(r'[0-9]{1,2}:[0-9]{2}\\s*(am|pm|\\s*)')\n",
    "hascomma = re.compile(r'[0-9]+[fF]\\S')\n",
    "\n",
    "for i,rctd in enumerate(rcoms):\n",
    "    for t in rctd:  # the tokens for each run \n",
    "        if hascomma.match(t.text):\n",
    "            print('token ',i,' has comma:',t.text)\n",
    "        w1 = anlonly.sub('',t.text).lower()\n",
    "        w = w1\n",
    "        if P(w1) < 0.5e-08 :\n",
    "            w = correction(w1)\n",
    "     #   print('{:}->{:}->{:}'.format(t.text,w1,w))        \n",
    "        if atemperature.match(w1):\n",
    "            temps.append(w1)\n",
    "        if atime.match(t.text):\n",
    "            times.append(t.text.lower())\n",
    "        if len(w) > 1:\n",
    "            words.append(w)      \n",
    "        if t.pos_ == \"NOUN\":\n",
    "            nouns.append(w)\n",
    "        if t.pos_ == \"VERB\":\n",
    "            verbs.append(w)\n",
    "\n",
    "\n",
    "WORDS=Counter(words)\n",
    "\n",
    "print(\"Vocab has {:} words.\".format(len(WORDS.values())))\n",
    "wt = 'integral'\n",
    "print('P('+wt+') = {:}'.format(P(wt)))\n",
    "wt = 'adkjfaooruxcc'\n",
    "print('P('+wt+') = {:}'.format(P(wt)))\n",
    "wt='consolodation'\n",
    "print('P('+wt+') = {:}'.format(P(wt)))\n",
    "wt='the'\n",
    "print('P('+wt+') = {:}'.format(P(wt)))\n",
    "wt='house'\n",
    "print('P('+wt+') = {:}'.format(P(wt)))\n",
    "\n",
    "\n",
    "wf = Counter(words)\n",
    "vf = Counter(verbs)\n",
    "nf = Counter(nouns)\n",
    "tf = Counter(temps)\n",
    "tif = Counter(times)\n",
    "\n",
    "print('I found {:3} unique words'.format(len(wf.keys())))\n",
    "print('   10 most common are:')\n",
    "print('   ',wf.most_common(10))\n",
    "print('')\n",
    "print('I found {:3} unique verbs'.format(len(vf.keys())))\n",
    "print('   10 most common are:')\n",
    "print('   ',vf.most_common(10))\n",
    "print('')\n",
    "print('I found {:3} unique nouns'.format(len(nf.keys())))\n",
    "print('   10 most common are:')\n",
    "print('   ',nf.most_common(10))\n",
    "print('')\n",
    "print('I found {:3} unique temperatures'.format(len(tf.keys())))\n",
    "print('   10 most common are:')\n",
    "print('   ',tf.most_common(10))\n",
    "print('')\n",
    "print('I found {:3} unique times'.format(len(tif.keys())))\n",
    "print('   10 most common are:')\n",
    "print('   ',tif.most_common(10))\n",
    "print('')"
   ]
  },
  {
   "cell_type": "code",
   "execution_count": 5,
   "metadata": {
    "jupyter": {
     "source_hidden": true
    },
    "tags": []
   },
   "outputs": [
    {
     "data": {
      "image/png": "[encoded data removed]",
      "text/plain": [
       "<Figure size 1152x216 with 1 Axes>"
      ]
     },
     "metadata": {
      "needs_background": "light"
     },
     "output_type": "display_data"
    }
   ],
   "source": [
    "ts = sorted(tf.keys())\n",
    "tnums = []\n",
    "tfreqs = []\n",
    "tot_sect = 0\n",
    "tot_sect2 = 0\n",
    "tmax = -99999\n",
    "for t in ts:\n",
    "  #  print('{:5} {:}'.format(t,tf[t]))\n",
    "    temper = float(t.replace('f',''))\n",
    "    tnums.append(temper)\n",
    "    tfreqs.append(tf[t])\n",
    "\n",
    "    # build mean and SD values\n",
    "    tot_sect += temper\n",
    "    tot_sect2 += temper*temper \n",
    "    \n",
    "###\n",
    "# Compute the stats\n",
    "n = len(ts)\n",
    "avg_temp = tot_sect/n\n",
    "sd_temp  = np.sqrt(\n",
    "    (n*tot_sect2-tot_sect*tot_sect) / (n*(n-1))\n",
    "    ) \n",
    "\n",
    "plt.figure(2,figsize=(16,3))\n",
    "plt.plot(tnums,tfreqs)\n",
    "# plot the normal distribution\n",
    "nd = stats.norm.pdf(tnums, avg_temp, sd_temp)\n",
    "y = 0.75*np.max(tfreqs)*nd/np.max(nd)   #auto scale height of normal dist.\n",
    "plt.plot(tnums, y, 'r')\n",
    "rd.plotHbar(avg_temp-sd_temp,avg_temp+sd_temp, 0.5*np.max(tfreqs),plt)\n",
    "plt.xlabel('Outside Temperature (deg F)')\n",
    "plt.ylabel('Number of Runs)')\n",
    "plt.show()"
   ]
  },
  {
   "cell_type": "code",
   "execution_count": 6,
   "metadata": {
    "jupyter": {
     "source_hidden": true
    },
    "tags": []
   },
   "outputs": [],
   "source": [
    "sleepwake = ['tired', 'rest', 'night', 'sleep']\n",
    "bad = ['weak', 'pain', 'hurts', 'hurt', 'bad', 'poor', 'blah', 'meh', 'bad']\n",
    "weather_good = ['weather', 'sunny', 'pleasant', 'warm']\n",
    "weather_bad  = ['weather','rain', 'wet', 'smoke', 'snow', 'ice', 'cool', 'drizzle', 'thunder','fog']\n",
    "body = ['legs','arms','knee','leg','hamstring', 'foot', 'ball', 'heel', 'body', 'ham']\n",
    "weightroom = ['weights', 'ymca', 'y', 'weightsymca','workout', 'lifting']\n",
    "health = ['gerd','hurt','cold', 'pain', 'stiff', 'stiffness','sore']\n",
    "effort = ['se','effort','push','pushed','tried', 'sustainable', 'motivation']\n",
    "loweffort = ['consolidation', 'blah', 'meh', 'lo','low']\n",
    "\n",
    "classes = {}\n",
    "classes['sleepwake'] = sleepwake\n",
    "classes['caf'] = ['caf','caffeine','coffee']\n",
    "classes['bad'] = bad\n",
    "classes['good'] = ['good','strong','fast','great','decent']\n",
    "classes['weather_good'] = weather_good\n",
    "classes['weather_bad'] = weather_bad\n",
    "classes['body'] = body\n",
    "classes['health'] = health\n",
    "classes['weightroom'] = weightroom\n",
    "classes['effort'] = effort\n",
    "classes['loweffort'] = loweffort\n",
    "classes['negative'] = ['bad','slow','weak','lo','low','sluggish','blah','meh']\n",
    "classes['resume'] = ['back','break','trip','travel','gap']"
   ]
  },
  {
   "cell_type": "code",
   "execution_count": 7,
   "metadata": {
    "jupyter": {
     "source_hidden": true
    },
    "tags": []
   },
   "outputs": [
    {
     "name": "stdout",
     "output_type": "stream",
     "text": [
      "matching runs: \n",
      "characteristics of runs:\n",
      "   sleepwake       appears in  32 runs. Avg pace diff:  4.58\n",
      "   caf             appears in  49 runs. Avg pace diff:  0.05\n",
      "   bad             appears in  34 runs. Avg pace diff:  5.01\n",
      "   good            appears in 259 runs. Avg pace diff:  2.04\n",
      "   weather_good    appears in 191 runs. Avg pace diff: -2.26\n",
      "   weather_bad     appears in  70 runs. Avg pace diff:  0.26\n",
      "   body            appears in  59 runs. Avg pace diff:  1.23\n",
      "   health          appears in  46 runs. Avg pace diff:  3.84\n",
      "   weightroom      appears in  37 runs. Avg pace diff: -10.03\n",
      "   effort          appears in  61 runs. Avg pace diff:  1.48\n",
      "   loweffort       appears in 601 runs. Avg pace diff: -2.58\n",
      "   negative        appears in 559 runs. Avg pace diff: -3.12\n",
      "   resume          appears in  19 runs. Avg pace diff: -1.73\n"
     ]
    }
   ],
   "source": [
    "print('matching runs: ')\n",
    "\n",
    "classscores = {}  # define and zero out data dicts\n",
    "classpaces = {}\n",
    "for c in classes.keys():\n",
    "    classscores[c] = 0\n",
    "    classpaces[c] = 0.0\n",
    "    \n",
    "n=0\n",
    "for i,r in enumerate(rund.runs):\n",
    "    for wt in rcoms[i]:     # word tokens in each comment doc.\n",
    "        if atemperature.match(wt.text):\n",
    "            r.tempDegF = wt.text\n",
    "      #  if P(wt.text)<1.0e-4:\n",
    "      #      rwc = correction(wt.text)\n",
    "      #  else:\n",
    "        rwc = correction(wt.text)\n",
    "      #  rwc = wt.text\n",
    "        for c in classes.keys():  \n",
    "                if rwc in classes[c]:\n",
    "                    classpaces[c] += r.pace\n",
    "                    classscores[c] += 1\n",
    "\n",
    "print('characteristics of runs:')\n",
    "for c in classes.keys():\n",
    "    if classscores[c] > 0:\n",
    "        avg = classpaces[c]/classscores[c]\n",
    "    else:\n",
    "        avg = 0.0\n",
    "    print('   {:15} appears in {:3} runs. Avg pace diff: {:5.2f}'.format(c, classscores[c],avg-pace_avg))"
   ]
  },
  {
   "cell_type": "code",
   "execution_count": null,
   "metadata": {
    "jupyter": {
     "source_hidden": true
    },
    "tags": []
   },
   "outputs": [],
   "source": []
  },
  {
   "cell_type": "code",
   "execution_count": null,
   "metadata": {
    "jupyter": {
     "source_hidden": true
    }
   },
   "outputs": [],
   "source": []
  },
  {
   "cell_type": "code",
   "execution_count": null,
   "metadata": {
    "jupyter": {
     "source_hidden": true
    },
    "tags": []
   },
   "outputs": [],
   "source": []
  },
  {
   "cell_type": "code",
   "execution_count": 8,
   "metadata": {
    "jupyter": {
     "source_hidden": true
    }
   },
   "outputs": [
    {
     "name": "stdout",
     "output_type": "stream",
     "text": [
      "0 (0, 8) 50F.good\n",
      "1 (0, 3) 50F\n",
      "2 (4, 8) good\n"
     ]
    }
   ],
   "source": [
    "\n",
    "string = '50F.good'\n",
    "regex_with_3_groups=r\"([a-z])([0-9]+)([A-Z])\"\n",
    "for match in re.finditer(fused, string):\n",
    "    for idx in range(3):\n",
    "        print(idx, match.span(idx), match.group(idx))"
   ]
  },
  {
   "cell_type": "code",
   "execution_count": null,
   "metadata": {
    "tags": []
   },
   "outputs": [],
   "source": []
  },
  {
   "cell_type": "code",
   "execution_count": null,
   "metadata": {
    "jupyter": {
     "source_hidden": true
    },
    "tags": []
   },
   "outputs": [],
   "source": []
  }
 ],
 "metadata": {
  "kernelspec": {
   "display_name": "Python 3",
   "language": "python",
   "name": "python3"
  },
  "language_info": {
   "codemirror_mode": {
    "name": "ipython",
    "version": 3
   },
   "file_extension": ".py",
   "mimetype": "text/x-python",
   "name": "python",
   "nbconvert_exporter": "python",
   "pygments_lexer": "ipython3",
   "version": "3.8.8"
  }
 },
 "nbformat": 4,
 "nbformat_minor": 4
}
